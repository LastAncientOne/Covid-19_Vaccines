{
  "cells": [
    {
      "cell_type": "markdown",
      "source": [
        "# Decision Trees for Regression JNJ"
      ],
      "metadata": {}
    },
    {
      "cell_type": "code",
      "source": [
        "import numpy as np\n",
        "import matplotlib.pyplot as plt\n",
        "import pandas as pd\n",
        "\n",
        "import warnings\n",
        "warnings.filterwarnings(\"ignore\")\n",
        "\n",
        "# fix_yahoo_finance is used to fetch data \n",
        "import yfinance as yf\n",
        "yf.pdr_override()"
      ],
      "outputs": [],
      "execution_count": 1,
      "metadata": {
        "collapsed": false,
        "outputHidden": false,
        "inputHidden": false,
        "execution": {
          "iopub.status.busy": "2022-09-13T01:17:13.932Z",
          "iopub.execute_input": "2022-09-13T01:17:13.936Z",
          "shell.execute_reply": "2022-09-13T01:17:14.406Z",
          "iopub.status.idle": "2022-09-13T01:17:14.388Z"
        }
      }
    },
    {
      "cell_type": "code",
      "source": [
        "# input\n",
        "symbol = 'JNJ'\n",
        "start = '2020-01-01'\n",
        "end = '2022-09-03'\n",
        "\n",
        "# Read data \n",
        "dataset = yf.download(symbol,start,end)\n",
        "\n",
        "# View Columns\n",
        "dataset.head()"
      ],
      "outputs": [
        {
          "output_type": "stream",
          "name": "stdout",
          "text": [
            "[*********************100%***********************]  1 of 1 completed\n"
          ]
        },
        {
          "output_type": "execute_result",
          "execution_count": 2,
          "data": {
            "text/plain": "                  Open        High         Low       Close   Adj Close  \\\nDate                                                                     \n2020-01-02  145.869995  146.020004  145.080002  145.970001  135.936539   \n2020-01-03  143.500000  145.369995  143.000000  144.279999  134.362701   \n2020-01-06  144.000000  144.199997  142.850006  144.100006  134.195114   \n2020-01-07  144.009995  145.449997  141.380005  144.979996  135.014587   \n2020-01-08  144.869995  145.979996  143.699997  144.960007  134.995956   \n\n             Volume  \nDate                 \n2020-01-02  5777000  \n2020-01-03  5752400  \n2020-01-06  7731300  \n2020-01-07  7382900  \n2020-01-08  6605800  ",
            "text/html": "<div>\n<style scoped>\n    .dataframe tbody tr th:only-of-type {\n        vertical-align: middle;\n    }\n\n    .dataframe tbody tr th {\n        vertical-align: top;\n    }\n\n    .dataframe thead th {\n        text-align: right;\n    }\n</style>\n<table border=\"1\" class=\"dataframe\">\n  <thead>\n    <tr style=\"text-align: right;\">\n      <th></th>\n      <th>Open</th>\n      <th>High</th>\n      <th>Low</th>\n      <th>Close</th>\n      <th>Adj Close</th>\n      <th>Volume</th>\n    </tr>\n    <tr>\n      <th>Date</th>\n      <th></th>\n      <th></th>\n      <th></th>\n      <th></th>\n      <th></th>\n      <th></th>\n    </tr>\n  </thead>\n  <tbody>\n    <tr>\n      <th>2020-01-02</th>\n      <td>145.869995</td>\n      <td>146.020004</td>\n      <td>145.080002</td>\n      <td>145.970001</td>\n      <td>135.936539</td>\n      <td>5777000</td>\n    </tr>\n    <tr>\n      <th>2020-01-03</th>\n      <td>143.500000</td>\n      <td>145.369995</td>\n      <td>143.000000</td>\n      <td>144.279999</td>\n      <td>134.362701</td>\n      <td>5752400</td>\n    </tr>\n    <tr>\n      <th>2020-01-06</th>\n      <td>144.000000</td>\n      <td>144.199997</td>\n      <td>142.850006</td>\n      <td>144.100006</td>\n      <td>134.195114</td>\n      <td>7731300</td>\n    </tr>\n    <tr>\n      <th>2020-01-07</th>\n      <td>144.009995</td>\n      <td>145.449997</td>\n      <td>141.380005</td>\n      <td>144.979996</td>\n      <td>135.014587</td>\n      <td>7382900</td>\n    </tr>\n    <tr>\n      <th>2020-01-08</th>\n      <td>144.869995</td>\n      <td>145.979996</td>\n      <td>143.699997</td>\n      <td>144.960007</td>\n      <td>134.995956</td>\n      <td>6605800</td>\n    </tr>\n  </tbody>\n</table>\n</div>"
          },
          "metadata": {}
        }
      ],
      "execution_count": 2,
      "metadata": {
        "collapsed": false,
        "outputHidden": false,
        "inputHidden": false,
        "execution": {
          "iopub.status.busy": "2022-09-13T01:17:14.394Z",
          "iopub.execute_input": "2022-09-13T01:17:14.398Z",
          "iopub.status.idle": "2022-09-13T01:17:15.098Z",
          "shell.execute_reply": "2022-09-13T01:17:15.125Z"
        }
      }
    },
    {
      "cell_type": "code",
      "source": [
        "# Create more data\n",
        "dataset['Increase_Decrease'] = np.where(dataset['Volume'].shift(-1) > dataset['Volume'],1,0)\n",
        "dataset['Buy_Sell_on_Open'] = np.where(dataset['Open'].shift(-1) > dataset['Open'],1,-1)\n",
        "dataset['Buy_Sell'] = np.where(dataset['Adj Close'].shift(-1) > dataset['Adj Close'],1,-1)\n",
        "dataset['Return'] = dataset['Adj Close'].pct_change()\n",
        "dataset = dataset.dropna()\n",
        "dataset.head()"
      ],
      "outputs": [
        {
          "output_type": "execute_result",
          "execution_count": 3,
          "data": {
            "text/plain": "                  Open        High         Low       Close   Adj Close  \\\nDate                                                                     \n2020-01-03  143.500000  145.369995  143.000000  144.279999  134.362701   \n2020-01-06  144.000000  144.199997  142.850006  144.100006  134.195114   \n2020-01-07  144.009995  145.449997  141.380005  144.979996  135.014587   \n2020-01-08  144.869995  145.979996  143.699997  144.960007  134.995956   \n2020-01-09  145.759995  146.029999  144.990005  145.389999  135.396378   \n\n             Volume  Increase_Decrease  Buy_Sell_on_Open  Buy_Sell    Return  \nDate                                                                          \n2020-01-03  5752400                  1                 1        -1 -0.011578  \n2020-01-06  7731300                  0                 1         1 -0.001247  \n2020-01-07  7382900                  0                 1        -1  0.006107  \n2020-01-08  6605800                  0                 1         1 -0.000138  \n2020-01-09  6112700                  0                -1        -1  0.002966  ",
            "text/html": "<div>\n<style scoped>\n    .dataframe tbody tr th:only-of-type {\n        vertical-align: middle;\n    }\n\n    .dataframe tbody tr th {\n        vertical-align: top;\n    }\n\n    .dataframe thead th {\n        text-align: right;\n    }\n</style>\n<table border=\"1\" class=\"dataframe\">\n  <thead>\n    <tr style=\"text-align: right;\">\n      <th></th>\n      <th>Open</th>\n      <th>High</th>\n      <th>Low</th>\n      <th>Close</th>\n      <th>Adj Close</th>\n      <th>Volume</th>\n      <th>Increase_Decrease</th>\n      <th>Buy_Sell_on_Open</th>\n      <th>Buy_Sell</th>\n      <th>Return</th>\n    </tr>\n    <tr>\n      <th>Date</th>\n      <th></th>\n      <th></th>\n      <th></th>\n      <th></th>\n      <th></th>\n      <th></th>\n      <th></th>\n      <th></th>\n      <th></th>\n      <th></th>\n    </tr>\n  </thead>\n  <tbody>\n    <tr>\n      <th>2020-01-03</th>\n      <td>143.500000</td>\n      <td>145.369995</td>\n      <td>143.000000</td>\n      <td>144.279999</td>\n      <td>134.362701</td>\n      <td>5752400</td>\n      <td>1</td>\n      <td>1</td>\n      <td>-1</td>\n      <td>-0.011578</td>\n    </tr>\n    <tr>\n      <th>2020-01-06</th>\n      <td>144.000000</td>\n      <td>144.199997</td>\n      <td>142.850006</td>\n      <td>144.100006</td>\n      <td>134.195114</td>\n      <td>7731300</td>\n      <td>0</td>\n      <td>1</td>\n      <td>1</td>\n      <td>-0.001247</td>\n    </tr>\n    <tr>\n      <th>2020-01-07</th>\n      <td>144.009995</td>\n      <td>145.449997</td>\n      <td>141.380005</td>\n      <td>144.979996</td>\n      <td>135.014587</td>\n      <td>7382900</td>\n      <td>0</td>\n      <td>1</td>\n      <td>-1</td>\n      <td>0.006107</td>\n    </tr>\n    <tr>\n      <th>2020-01-08</th>\n      <td>144.869995</td>\n      <td>145.979996</td>\n      <td>143.699997</td>\n      <td>144.960007</td>\n      <td>134.995956</td>\n      <td>6605800</td>\n      <td>0</td>\n      <td>1</td>\n      <td>1</td>\n      <td>-0.000138</td>\n    </tr>\n    <tr>\n      <th>2020-01-09</th>\n      <td>145.759995</td>\n      <td>146.029999</td>\n      <td>144.990005</td>\n      <td>145.389999</td>\n      <td>135.396378</td>\n      <td>6112700</td>\n      <td>0</td>\n      <td>-1</td>\n      <td>-1</td>\n      <td>0.002966</td>\n    </tr>\n  </tbody>\n</table>\n</div>"
          },
          "metadata": {}
        }
      ],
      "execution_count": 3,
      "metadata": {
        "collapsed": false,
        "outputHidden": false,
        "inputHidden": false,
        "execution": {
          "iopub.status.busy": "2022-09-13T01:17:15.105Z",
          "iopub.execute_input": "2022-09-13T01:17:15.108Z",
          "shell.execute_reply": "2022-09-13T01:17:15.129Z",
          "iopub.status.idle": "2022-09-13T01:17:15.135Z"
        }
      }
    },
    {
      "cell_type": "code",
      "source": [
        "dataset.shape"
      ],
      "outputs": [
        {
          "output_type": "execute_result",
          "execution_count": 4,
          "data": {
            "text/plain": "(673, 10)"
          },
          "metadata": {}
        }
      ],
      "execution_count": 4,
      "metadata": {
        "collapsed": false,
        "outputHidden": false,
        "inputHidden": false,
        "execution": {
          "iopub.status.busy": "2022-09-13T01:17:15.140Z",
          "iopub.execute_input": "2022-09-13T01:17:15.144Z",
          "iopub.status.idle": "2022-09-13T01:17:15.153Z",
          "shell.execute_reply": "2022-09-13T01:17:15.198Z"
        }
      }
    },
    {
      "cell_type": "code",
      "source": [
        "X = dataset.drop(['Adj Close', 'Close'], axis=1)  \n",
        "y = dataset['Adj Close'] "
      ],
      "outputs": [],
      "execution_count": 5,
      "metadata": {
        "collapsed": false,
        "outputHidden": false,
        "inputHidden": false,
        "execution": {
          "iopub.status.busy": "2022-09-13T01:17:15.161Z",
          "iopub.execute_input": "2022-09-13T01:17:15.166Z",
          "iopub.status.idle": "2022-09-13T01:17:15.173Z",
          "shell.execute_reply": "2022-09-13T01:17:15.202Z"
        }
      }
    },
    {
      "cell_type": "code",
      "source": [
        "from sklearn.model_selection import train_test_split  \n",
        "X_train, X_test, y_train, y_test = train_test_split(X, y, test_size=0.2, random_state=0)  "
      ],
      "outputs": [],
      "execution_count": 6,
      "metadata": {
        "collapsed": false,
        "outputHidden": false,
        "inputHidden": false,
        "execution": {
          "iopub.status.busy": "2022-09-13T01:17:15.178Z",
          "iopub.execute_input": "2022-09-13T01:17:15.182Z",
          "shell.execute_reply": "2022-09-13T01:17:16.026Z",
          "iopub.status.idle": "2022-09-13T01:17:16.004Z"
        }
      }
    },
    {
      "cell_type": "code",
      "source": [
        "from sklearn.tree import DecisionTreeRegressor  \n",
        "regressor = DecisionTreeRegressor()  \n",
        "regressor.fit(X_train, y_train)"
      ],
      "outputs": [
        {
          "output_type": "execute_result",
          "execution_count": 7,
          "data": {
            "text/plain": "DecisionTreeRegressor()"
          },
          "metadata": {}
        }
      ],
      "execution_count": 7,
      "metadata": {
        "collapsed": false,
        "outputHidden": false,
        "inputHidden": false,
        "execution": {
          "iopub.status.busy": "2022-09-13T01:17:16.011Z",
          "iopub.execute_input": "2022-09-13T01:17:16.015Z",
          "shell.execute_reply": "2022-09-13T01:17:16.084Z",
          "iopub.status.idle": "2022-09-13T01:17:16.064Z"
        }
      }
    },
    {
      "cell_type": "code",
      "source": [
        "from mlxtend.evaluate import bias_variance_decomp\n",
        "\n",
        "avg_expected_loss, avg_bias, avg_var = bias_variance_decomp(regressor, X_train.values, y_train.values, X_test.values, y_test.values, loss='mse', random_seed=123)\n",
        "\n",
        "print('MSE: %.3f' % avg_expected_loss)\n",
        "print('Bias: %.3f' % avg_bias)\n",
        "print('Variance: %.3f' % avg_var)"
      ],
      "outputs": [
        {
          "output_type": "stream",
          "name": "stdout",
          "text": [
            "MSE: 6.806\n",
            "Bias: 3.708\n",
            "Variance: 3.098\n"
          ]
        }
      ],
      "execution_count": 8,
      "metadata": {
        "collapsed": true,
        "jupyter": {
          "source_hidden": false,
          "outputs_hidden": false
        },
        "nteract": {
          "transient": {
            "deleting": false
          }
        },
        "execution": {
          "iopub.status.busy": "2022-09-13T01:17:16.071Z",
          "iopub.execute_input": "2022-09-13T01:17:16.075Z",
          "shell.execute_reply": "2022-09-13T01:17:16.411Z",
          "iopub.status.idle": "2022-09-13T01:17:16.388Z"
        }
      }
    },
    {
      "cell_type": "code",
      "source": [
        "y_pred = regressor.predict(X_test)"
      ],
      "outputs": [],
      "execution_count": 9,
      "metadata": {
        "collapsed": false,
        "outputHidden": false,
        "inputHidden": false,
        "execution": {
          "iopub.status.busy": "2022-09-13T01:17:16.393Z",
          "iopub.execute_input": "2022-09-13T01:17:16.396Z",
          "iopub.status.idle": "2022-09-13T01:17:16.402Z",
          "shell.execute_reply": "2022-09-13T01:17:16.415Z"
        }
      }
    },
    {
      "cell_type": "code",
      "source": [
        "df = pd.DataFrame({'Actual':y_test, 'Predicted':y_pred})  \n",
        "print(df.head())\n",
        "print(df.tail())"
      ],
      "outputs": [
        {
          "output_type": "stream",
          "name": "stdout",
          "text": [
            "                Actual   Predicted\n",
            "Date                              \n",
            "2022-03-09  167.155533  164.150040\n",
            "2021-12-30  168.982391  166.387390\n",
            "2021-11-02  161.335403  162.696198\n",
            "2021-04-30  156.635071  160.205246\n",
            "2020-01-24  138.125031  139.912766\n",
            "                Actual   Predicted\n",
            "Date                              \n",
            "2020-04-24  145.135101  144.600906\n",
            "2022-08-11  166.024475  160.324265\n",
            "2020-09-30  141.432968  138.320602\n",
            "2020-10-08  141.442459  139.223907\n",
            "2021-10-22  159.513474  159.084763\n"
          ]
        }
      ],
      "execution_count": 10,
      "metadata": {
        "collapsed": false,
        "outputHidden": false,
        "inputHidden": false,
        "execution": {
          "iopub.status.busy": "2022-09-13T01:17:16.424Z",
          "iopub.execute_input": "2022-09-13T01:17:16.427Z",
          "iopub.status.idle": "2022-09-13T01:17:16.434Z",
          "shell.execute_reply": "2022-09-13T01:17:16.417Z"
        }
      }
    },
    {
      "cell_type": "code",
      "source": [
        "from sklearn import metrics  \n",
        "print('Mean Absolute Error:', metrics.mean_absolute_error(y_test, y_pred))  \n",
        "print('Mean Squared Error:', metrics.mean_squared_error(y_test, y_pred))  \n",
        "print('Root Mean Squared Error:', np.sqrt(metrics.mean_squared_error(y_test, y_pred)))  "
      ],
      "outputs": [
        {
          "output_type": "stream",
          "name": "stdout",
          "text": [
            "Mean Absolute Error: 2.309075701678241\n",
            "Mean Squared Error: 8.559503145089925\n",
            "Root Mean Squared Error: 2.925662855677312\n"
          ]
        }
      ],
      "execution_count": 11,
      "metadata": {
        "collapsed": false,
        "outputHidden": false,
        "inputHidden": false,
        "execution": {
          "iopub.status.busy": "2022-09-13T01:17:16.439Z",
          "iopub.execute_input": "2022-09-13T01:17:16.443Z",
          "iopub.status.idle": "2022-09-13T01:17:16.453Z",
          "shell.execute_reply": "2022-09-13T01:17:16.489Z"
        }
      }
    },
    {
      "cell_type": "code",
      "source": [
        "print(y_test.shape)\n",
        "print(y_pred.shape)"
      ],
      "outputs": [
        {
          "output_type": "stream",
          "name": "stdout",
          "text": [
            "(135,)\n",
            "(135,)\n"
          ]
        }
      ],
      "execution_count": 12,
      "metadata": {
        "collapsed": false,
        "outputHidden": false,
        "inputHidden": false,
        "execution": {
          "iopub.status.busy": "2022-09-13T01:17:16.458Z",
          "iopub.execute_input": "2022-09-13T01:17:16.461Z",
          "iopub.status.idle": "2022-09-13T01:17:16.469Z",
          "shell.execute_reply": "2022-09-13T01:17:16.492Z"
        }
      }
    },
    {
      "cell_type": "code",
      "source": [
        "from sklearn.model_selection import cross_val_score\n",
        "\n",
        "dt_fit = regressor.fit(X_train, y_train)\n",
        "dt_scores = cross_val_score(dt_fit, X_train, y_train, cv = 5)\n",
        "\n",
        "print(\"Mean cross validation score: {}\".format(np.mean(dt_scores)))\n",
        "print(\"Score without cv: {}\".format(dt_fit.score(X_train, y_train)))"
      ],
      "outputs": [
        {
          "output_type": "stream",
          "name": "stdout",
          "text": [
            "Mean cross validation score: 0.9718841419769569\n",
            "Score without cv: 1.0\n"
          ]
        }
      ],
      "execution_count": 13,
      "metadata": {
        "collapsed": false,
        "outputHidden": false,
        "inputHidden": false,
        "execution": {
          "iopub.status.busy": "2022-09-13T01:17:16.474Z",
          "iopub.execute_input": "2022-09-13T01:17:16.477Z",
          "iopub.status.idle": "2022-09-13T01:17:16.501Z",
          "shell.execute_reply": "2022-09-13T01:17:16.495Z"
        }
      }
    },
    {
      "cell_type": "code",
      "source": [
        "from sklearn.metrics import r2_score\n",
        "\n",
        "print('r2 score:', r2_score(y_test, dt_fit.predict(X_test)))\n",
        "print('Accuracy Score:', dt_fit.score(X_test, y_test))"
      ],
      "outputs": [
        {
          "output_type": "stream",
          "name": "stdout",
          "text": [
            "r2 score: 0.9715083905992271\n",
            "Accuracy Score: 0.9715083905992271\n"
          ]
        }
      ],
      "execution_count": 14,
      "metadata": {
        "collapsed": false,
        "outputHidden": false,
        "inputHidden": false,
        "execution": {
          "iopub.status.busy": "2022-09-13T01:17:16.506Z",
          "iopub.execute_input": "2022-09-13T01:17:16.509Z",
          "iopub.status.idle": "2022-09-13T01:17:16.517Z",
          "shell.execute_reply": "2022-09-13T01:17:16.525Z"
        }
      }
    }
  ],
  "metadata": {
    "kernel_info": {
      "name": "python3"
    },
    "language_info": {
      "name": "python",
      "version": "3.6.13",
      "mimetype": "text/x-python",
      "codemirror_mode": {
        "name": "ipython",
        "version": 3
      },
      "pygments_lexer": "ipython3",
      "nbconvert_exporter": "python",
      "file_extension": ".py"
    },
    "kernelspec": {
      "name": "python3",
      "language": "python",
      "display_name": "Python 3"
    },
    "nteract": {
      "version": "0.28.0"
    }
  },
  "nbformat": 4,
  "nbformat_minor": 4
}