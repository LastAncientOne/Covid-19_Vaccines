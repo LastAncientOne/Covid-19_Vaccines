{
  "cells": [
    {
      "cell_type": "markdown",
      "source": [
        "# Decision Trees for Regression BNTX"
      ],
      "metadata": {}
    },
    {
      "cell_type": "code",
      "source": [
        "import numpy as np\n",
        "import matplotlib.pyplot as plt\n",
        "import pandas as pd\n",
        "\n",
        "import warnings\n",
        "warnings.filterwarnings(\"ignore\")\n",
        "\n",
        "# fix_yahoo_finance is used to fetch data \n",
        "import yfinance as yf\n",
        "yf.pdr_override()"
      ],
      "outputs": [],
      "execution_count": 1,
      "metadata": {
        "collapsed": false,
        "outputHidden": false,
        "inputHidden": false,
        "execution": {
          "iopub.status.busy": "2022-09-13T01:16:07.163Z",
          "iopub.execute_input": "2022-09-13T01:16:07.168Z",
          "shell.execute_reply": "2022-09-13T01:16:07.640Z",
          "iopub.status.idle": "2022-09-13T01:16:07.647Z"
        }
      }
    },
    {
      "cell_type": "code",
      "source": [
        "# input\n",
        "symbol = 'BNTX'\n",
        "start = '2020-01-01'\n",
        "end = '2022-09-03'\n",
        "\n",
        "# Read data \n",
        "dataset = yf.download(symbol,start,end)\n",
        "\n",
        "# View Columns\n",
        "dataset.head()"
      ],
      "outputs": [
        {
          "output_type": "stream",
          "name": "stdout",
          "text": [
            "[*********************100%***********************]  1 of 1 completed\n"
          ]
        },
        {
          "output_type": "execute_result",
          "execution_count": 2,
          "data": {
            "text/plain": "                 Open       High        Low      Close  Adj Close  Volume\nDate                                                                     \n2020-01-02  35.750000  38.500000  35.360001  38.500000  37.996727  139500\n2020-01-03  38.000000  41.250000  36.419998  40.049999  39.526466  176000\n2020-01-06  40.110001  45.000000  40.099998  44.580002  43.997250  333300\n2020-01-07  47.400002  48.849998  41.180000  43.340000  42.773460  562100\n2020-01-08  44.299999  46.330002  44.180000  45.099998  44.510452  193900",
            "text/html": "<div>\n<style scoped>\n    .dataframe tbody tr th:only-of-type {\n        vertical-align: middle;\n    }\n\n    .dataframe tbody tr th {\n        vertical-align: top;\n    }\n\n    .dataframe thead th {\n        text-align: right;\n    }\n</style>\n<table border=\"1\" class=\"dataframe\">\n  <thead>\n    <tr style=\"text-align: right;\">\n      <th></th>\n      <th>Open</th>\n      <th>High</th>\n      <th>Low</th>\n      <th>Close</th>\n      <th>Adj Close</th>\n      <th>Volume</th>\n    </tr>\n    <tr>\n      <th>Date</th>\n      <th></th>\n      <th></th>\n      <th></th>\n      <th></th>\n      <th></th>\n      <th></th>\n    </tr>\n  </thead>\n  <tbody>\n    <tr>\n      <th>2020-01-02</th>\n      <td>35.750000</td>\n      <td>38.500000</td>\n      <td>35.360001</td>\n      <td>38.500000</td>\n      <td>37.996727</td>\n      <td>139500</td>\n    </tr>\n    <tr>\n      <th>2020-01-03</th>\n      <td>38.000000</td>\n      <td>41.250000</td>\n      <td>36.419998</td>\n      <td>40.049999</td>\n      <td>39.526466</td>\n      <td>176000</td>\n    </tr>\n    <tr>\n      <th>2020-01-06</th>\n      <td>40.110001</td>\n      <td>45.000000</td>\n      <td>40.099998</td>\n      <td>44.580002</td>\n      <td>43.997250</td>\n      <td>333300</td>\n    </tr>\n    <tr>\n      <th>2020-01-07</th>\n      <td>47.400002</td>\n      <td>48.849998</td>\n      <td>41.180000</td>\n      <td>43.340000</td>\n      <td>42.773460</td>\n      <td>562100</td>\n    </tr>\n    <tr>\n      <th>2020-01-08</th>\n      <td>44.299999</td>\n      <td>46.330002</td>\n      <td>44.180000</td>\n      <td>45.099998</td>\n      <td>44.510452</td>\n      <td>193900</td>\n    </tr>\n  </tbody>\n</table>\n</div>"
          },
          "metadata": {}
        }
      ],
      "execution_count": 2,
      "metadata": {
        "collapsed": false,
        "outputHidden": false,
        "inputHidden": false,
        "execution": {
          "iopub.status.busy": "2022-09-13T01:16:07.654Z",
          "iopub.execute_input": "2022-09-13T01:16:07.659Z",
          "iopub.status.idle": "2022-09-13T01:16:09.937Z",
          "shell.execute_reply": "2022-09-13T01:16:09.959Z"
        }
      }
    },
    {
      "cell_type": "code",
      "source": [
        "# Create more data\n",
        "dataset['Increase_Decrease'] = np.where(dataset['Volume'].shift(-1) > dataset['Volume'],1,0)\n",
        "dataset['Buy_Sell_on_Open'] = np.where(dataset['Open'].shift(-1) > dataset['Open'],1,-1)\n",
        "dataset['Buy_Sell'] = np.where(dataset['Adj Close'].shift(-1) > dataset['Adj Close'],1,-1)\n",
        "dataset['Return'] = dataset['Adj Close'].pct_change()\n",
        "dataset = dataset.dropna()\n",
        "dataset.head()"
      ],
      "outputs": [
        {
          "output_type": "execute_result",
          "execution_count": 3,
          "data": {
            "text/plain": "                 Open       High        Low      Close  Adj Close  Volume  \\\nDate                                                                        \n2020-01-03  38.000000  41.250000  36.419998  40.049999  39.526466  176000   \n2020-01-06  40.110001  45.000000  40.099998  44.580002  43.997250  333300   \n2020-01-07  47.400002  48.849998  41.180000  43.340000  42.773460  562100   \n2020-01-08  44.299999  46.330002  44.180000  45.099998  44.510452  193900   \n2020-01-09  46.549999  46.709999  42.709999  43.270000  42.704376  234900   \n\n            Increase_Decrease  Buy_Sell_on_Open  Buy_Sell    Return  \nDate                                                                 \n2020-01-03                  1                 1         1  0.040260  \n2020-01-06                  1                 1        -1  0.113109  \n2020-01-07                  0                -1         1 -0.027815  \n2020-01-08                  1                 1        -1  0.040609  \n2020-01-09                  1                -1        -1 -0.040576  ",
            "text/html": "<div>\n<style scoped>\n    .dataframe tbody tr th:only-of-type {\n        vertical-align: middle;\n    }\n\n    .dataframe tbody tr th {\n        vertical-align: top;\n    }\n\n    .dataframe thead th {\n        text-align: right;\n    }\n</style>\n<table border=\"1\" class=\"dataframe\">\n  <thead>\n    <tr style=\"text-align: right;\">\n      <th></th>\n      <th>Open</th>\n      <th>High</th>\n      <th>Low</th>\n      <th>Close</th>\n      <th>Adj Close</th>\n      <th>Volume</th>\n      <th>Increase_Decrease</th>\n      <th>Buy_Sell_on_Open</th>\n      <th>Buy_Sell</th>\n      <th>Return</th>\n    </tr>\n    <tr>\n      <th>Date</th>\n      <th></th>\n      <th></th>\n      <th></th>\n      <th></th>\n      <th></th>\n      <th></th>\n      <th></th>\n      <th></th>\n      <th></th>\n      <th></th>\n    </tr>\n  </thead>\n  <tbody>\n    <tr>\n      <th>2020-01-03</th>\n      <td>38.000000</td>\n      <td>41.250000</td>\n      <td>36.419998</td>\n      <td>40.049999</td>\n      <td>39.526466</td>\n      <td>176000</td>\n      <td>1</td>\n      <td>1</td>\n      <td>1</td>\n      <td>0.040260</td>\n    </tr>\n    <tr>\n      <th>2020-01-06</th>\n      <td>40.110001</td>\n      <td>45.000000</td>\n      <td>40.099998</td>\n      <td>44.580002</td>\n      <td>43.997250</td>\n      <td>333300</td>\n      <td>1</td>\n      <td>1</td>\n      <td>-1</td>\n      <td>0.113109</td>\n    </tr>\n    <tr>\n      <th>2020-01-07</th>\n      <td>47.400002</td>\n      <td>48.849998</td>\n      <td>41.180000</td>\n      <td>43.340000</td>\n      <td>42.773460</td>\n      <td>562100</td>\n      <td>0</td>\n      <td>-1</td>\n      <td>1</td>\n      <td>-0.027815</td>\n    </tr>\n    <tr>\n      <th>2020-01-08</th>\n      <td>44.299999</td>\n      <td>46.330002</td>\n      <td>44.180000</td>\n      <td>45.099998</td>\n      <td>44.510452</td>\n      <td>193900</td>\n      <td>1</td>\n      <td>1</td>\n      <td>-1</td>\n      <td>0.040609</td>\n    </tr>\n    <tr>\n      <th>2020-01-09</th>\n      <td>46.549999</td>\n      <td>46.709999</td>\n      <td>42.709999</td>\n      <td>43.270000</td>\n      <td>42.704376</td>\n      <td>234900</td>\n      <td>1</td>\n      <td>-1</td>\n      <td>-1</td>\n      <td>-0.040576</td>\n    </tr>\n  </tbody>\n</table>\n</div>"
          },
          "metadata": {}
        }
      ],
      "execution_count": 3,
      "metadata": {
        "collapsed": false,
        "outputHidden": false,
        "inputHidden": false,
        "execution": {
          "iopub.status.busy": "2022-09-13T01:16:09.943Z",
          "iopub.execute_input": "2022-09-13T01:16:09.947Z",
          "shell.execute_reply": "2022-09-13T01:16:09.964Z",
          "iopub.status.idle": "2022-09-13T01:16:09.977Z"
        }
      }
    },
    {
      "cell_type": "code",
      "source": [
        "dataset.shape"
      ],
      "outputs": [
        {
          "output_type": "execute_result",
          "execution_count": 4,
          "data": {
            "text/plain": "(673, 10)"
          },
          "metadata": {}
        }
      ],
      "execution_count": 4,
      "metadata": {
        "collapsed": false,
        "outputHidden": false,
        "inputHidden": false,
        "execution": {
          "iopub.status.busy": "2022-09-13T01:16:09.988Z",
          "iopub.execute_input": "2022-09-13T01:16:09.995Z",
          "iopub.status.idle": "2022-09-13T01:16:10.007Z",
          "shell.execute_reply": "2022-09-13T01:16:10.048Z"
        }
      }
    },
    {
      "cell_type": "code",
      "source": [
        "X = dataset.drop(['Adj Close', 'Close'], axis=1)  \n",
        "y = dataset['Adj Close'] "
      ],
      "outputs": [],
      "execution_count": 5,
      "metadata": {
        "collapsed": false,
        "outputHidden": false,
        "inputHidden": false,
        "execution": {
          "iopub.status.busy": "2022-09-13T01:16:10.013Z",
          "iopub.execute_input": "2022-09-13T01:16:10.018Z",
          "iopub.status.idle": "2022-09-13T01:16:10.024Z",
          "shell.execute_reply": "2022-09-13T01:16:10.052Z"
        }
      }
    },
    {
      "cell_type": "code",
      "source": [
        "from sklearn.model_selection import train_test_split  \n",
        "X_train, X_test, y_train, y_test = train_test_split(X, y, test_size=0.2, random_state=0)  "
      ],
      "outputs": [],
      "execution_count": 6,
      "metadata": {
        "collapsed": false,
        "outputHidden": false,
        "inputHidden": false,
        "execution": {
          "iopub.status.busy": "2022-09-13T01:16:10.029Z",
          "iopub.execute_input": "2022-09-13T01:16:10.033Z",
          "shell.execute_reply": "2022-09-13T01:16:14.595Z",
          "iopub.status.idle": "2022-09-13T01:16:14.574Z"
        }
      }
    },
    {
      "cell_type": "code",
      "source": [
        "from sklearn.tree import DecisionTreeRegressor  \n",
        "regressor = DecisionTreeRegressor()  \n",
        "regressor.fit(X_train, y_train)"
      ],
      "outputs": [
        {
          "output_type": "execute_result",
          "execution_count": 7,
          "data": {
            "text/plain": "DecisionTreeRegressor()"
          },
          "metadata": {}
        }
      ],
      "execution_count": 7,
      "metadata": {
        "collapsed": false,
        "outputHidden": false,
        "inputHidden": false,
        "execution": {
          "iopub.status.busy": "2022-09-13T01:16:14.582Z",
          "iopub.execute_input": "2022-09-13T01:16:14.588Z",
          "shell.execute_reply": "2022-09-13T01:16:14.932Z",
          "iopub.status.idle": "2022-09-13T01:16:14.912Z"
        }
      }
    },
    {
      "cell_type": "code",
      "source": [
        "from mlxtend.evaluate import bias_variance_decomp\n",
        "\n",
        "avg_expected_loss, avg_bias, avg_var = bias_variance_decomp(regressor, X_train.values, y_train.values, X_test.values, y_test.values, loss='mse', random_seed=123)\n",
        "\n",
        "print('MSE: %.3f' % avg_expected_loss)\n",
        "print('Bias: %.3f' % avg_bias)\n",
        "print('Variance: %.3f' % avg_var)"
      ],
      "outputs": [
        {
          "output_type": "stream",
          "name": "stdout",
          "text": [
            "MSE: 59.215\n",
            "Bias: 26.158\n",
            "Variance: 33.057\n"
          ]
        }
      ],
      "execution_count": 8,
      "metadata": {
        "collapsed": true,
        "jupyter": {
          "source_hidden": false,
          "outputs_hidden": false
        },
        "nteract": {
          "transient": {
            "deleting": false
          }
        },
        "execution": {
          "iopub.status.busy": "2022-09-13T01:16:14.919Z",
          "iopub.execute_input": "2022-09-13T01:16:14.924Z",
          "shell.execute_reply": "2022-09-13T01:16:15.332Z",
          "iopub.status.idle": "2022-09-13T01:16:15.235Z"
        }
      }
    },
    {
      "cell_type": "code",
      "source": [
        "y_pred = regressor.predict(X_test)"
      ],
      "outputs": [],
      "execution_count": 9,
      "metadata": {
        "collapsed": false,
        "outputHidden": false,
        "inputHidden": false,
        "execution": {
          "iopub.status.busy": "2022-09-13T01:16:15.240Z",
          "iopub.execute_input": "2022-09-13T01:16:15.244Z",
          "iopub.status.idle": "2022-09-13T01:16:15.250Z",
          "shell.execute_reply": "2022-09-13T01:16:15.335Z"
        }
      }
    },
    {
      "cell_type": "code",
      "source": [
        "df = pd.DataFrame({'Actual':y_test, 'Predicted':y_pred})  \n",
        "print(df.head())\n",
        "print(df.tail())"
      ],
      "outputs": [
        {
          "output_type": "stream",
          "name": "stdout",
          "text": [
            "                Actual   Predicted\n",
            "Date                              \n",
            "2022-03-09  138.377182  138.485748\n",
            "2021-12-30  253.452972  241.965134\n",
            "2021-11-02  285.695923  285.962372\n",
            "2021-04-30  185.818802  190.250107\n",
            "2020-01-24   34.532612   36.220257\n",
            "                Actual   Predicted\n",
            "Date                              \n",
            "2020-04-24   47.125813   46.967903\n",
            "2022-08-11  158.589996  161.029999\n",
            "2020-09-30   68.325027   65.907051\n",
            "2020-10-08   86.800316   89.198547\n",
            "2021-10-22  274.701538  270.359070\n"
          ]
        }
      ],
      "execution_count": 10,
      "metadata": {
        "collapsed": false,
        "outputHidden": false,
        "inputHidden": false,
        "execution": {
          "iopub.status.busy": "2022-09-13T01:16:15.257Z",
          "iopub.execute_input": "2022-09-13T01:16:15.260Z",
          "iopub.status.idle": "2022-09-13T01:16:15.271Z",
          "shell.execute_reply": "2022-09-13T01:16:15.338Z"
        }
      }
    },
    {
      "cell_type": "code",
      "source": [
        "from sklearn import metrics  \n",
        "print('Mean Absolute Error:', metrics.mean_absolute_error(y_test, y_pred))  \n",
        "print('Mean Squared Error:', metrics.mean_squared_error(y_test, y_pred))  \n",
        "print('Root Mean Squared Error:', np.sqrt(metrics.mean_squared_error(y_test, y_pred)))  "
      ],
      "outputs": [
        {
          "output_type": "stream",
          "name": "stdout",
          "text": [
            "Mean Absolute Error: 3.928795524879738\n",
            "Mean Squared Error: 43.432345182353096\n",
            "Root Mean Squared Error: 6.590322084872112\n"
          ]
        }
      ],
      "execution_count": 11,
      "metadata": {
        "collapsed": false,
        "outputHidden": false,
        "inputHidden": false,
        "execution": {
          "iopub.status.busy": "2022-09-13T01:16:15.276Z",
          "iopub.execute_input": "2022-09-13T01:16:15.281Z",
          "iopub.status.idle": "2022-09-13T01:16:15.291Z",
          "shell.execute_reply": "2022-09-13T01:16:15.340Z"
        }
      }
    },
    {
      "cell_type": "code",
      "source": [
        "print(y_test.shape)\n",
        "print(y_pred.shape)"
      ],
      "outputs": [
        {
          "output_type": "stream",
          "name": "stdout",
          "text": [
            "(135,)\n",
            "(135,)\n"
          ]
        }
      ],
      "execution_count": 12,
      "metadata": {
        "collapsed": false,
        "outputHidden": false,
        "inputHidden": false,
        "execution": {
          "iopub.status.busy": "2022-09-13T01:16:15.298Z",
          "iopub.execute_input": "2022-09-13T01:16:15.302Z",
          "iopub.status.idle": "2022-09-13T01:16:15.311Z",
          "shell.execute_reply": "2022-09-13T01:16:15.343Z"
        }
      }
    },
    {
      "cell_type": "code",
      "source": [
        "from sklearn.model_selection import cross_val_score\n",
        "\n",
        "dt_fit = regressor.fit(X_train, y_train)\n",
        "dt_scores = cross_val_score(dt_fit, X_train, y_train, cv = 5)\n",
        "\n",
        "print(\"Mean cross validation score: {}\".format(np.mean(dt_scores)))\n",
        "print(\"Score without cv: {}\".format(dt_fit.score(X_train, y_train)))"
      ],
      "outputs": [
        {
          "output_type": "stream",
          "name": "stdout",
          "text": [
            "Mean cross validation score: 0.9952992855519899\n",
            "Score without cv: 1.0\n"
          ]
        }
      ],
      "execution_count": 13,
      "metadata": {
        "collapsed": false,
        "outputHidden": false,
        "inputHidden": false,
        "execution": {
          "iopub.status.busy": "2022-09-13T01:16:15.316Z",
          "iopub.execute_input": "2022-09-13T01:16:15.320Z",
          "iopub.status.idle": "2022-09-13T01:16:15.351Z",
          "shell.execute_reply": "2022-09-13T01:16:15.345Z"
        }
      }
    },
    {
      "cell_type": "code",
      "source": [
        "from sklearn.metrics import r2_score\n",
        "\n",
        "print('r2 score:', r2_score(y_test, dt_fit.predict(X_test)))\n",
        "print('Accuracy Score:', dt_fit.score(X_test, y_test))"
      ],
      "outputs": [
        {
          "output_type": "stream",
          "name": "stdout",
          "text": [
            "r2 score: 0.9959999390629526\n",
            "Accuracy Score: 0.9959999390629526\n"
          ]
        }
      ],
      "execution_count": 14,
      "metadata": {
        "collapsed": false,
        "outputHidden": false,
        "inputHidden": false,
        "execution": {
          "iopub.status.busy": "2022-09-13T01:16:15.358Z",
          "iopub.execute_input": "2022-09-13T01:16:15.362Z",
          "iopub.status.idle": "2022-09-13T01:16:15.369Z",
          "shell.execute_reply": "2022-09-13T01:16:15.378Z"
        }
      }
    }
  ],
  "metadata": {
    "kernel_info": {
      "name": "python3"
    },
    "language_info": {
      "name": "python",
      "version": "3.6.13",
      "mimetype": "text/x-python",
      "codemirror_mode": {
        "name": "ipython",
        "version": 3
      },
      "pygments_lexer": "ipython3",
      "nbconvert_exporter": "python",
      "file_extension": ".py"
    },
    "kernelspec": {
      "name": "python3",
      "language": "python",
      "display_name": "Python 3"
    },
    "nteract": {
      "version": "0.28.0"
    }
  },
  "nbformat": 4,
  "nbformat_minor": 4
}