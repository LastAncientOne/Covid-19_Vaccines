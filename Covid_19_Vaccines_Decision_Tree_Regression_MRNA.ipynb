{
  "cells": [
    {
      "cell_type": "markdown",
      "source": [
        "# Decision Trees for Regression MRNA"
      ],
      "metadata": {}
    },
    {
      "cell_type": "code",
      "source": [
        "import numpy as np\n",
        "import matplotlib.pyplot as plt\n",
        "import pandas as pd\n",
        "\n",
        "import warnings\n",
        "warnings.filterwarnings(\"ignore\")\n",
        "\n",
        "# fix_yahoo_finance is used to fetch data \n",
        "import yfinance as yf\n",
        "yf.pdr_override()"
      ],
      "outputs": [],
      "execution_count": 1,
      "metadata": {
        "collapsed": false,
        "outputHidden": false,
        "inputHidden": false,
        "execution": {
          "iopub.status.busy": "2022-09-13T01:18:14.125Z",
          "iopub.execute_input": "2022-09-13T01:18:14.129Z",
          "shell.execute_reply": "2022-09-13T01:18:14.583Z",
          "iopub.status.idle": "2022-09-13T01:18:14.588Z"
        }
      }
    },
    {
      "cell_type": "code",
      "source": [
        "# input\n",
        "symbol = 'MRNA'\n",
        "start = '2020-01-01'\n",
        "end = '2022-09-03'\n",
        "\n",
        "# Read data \n",
        "dataset = yf.download(symbol,start,end)\n",
        "\n",
        "# View Columns\n",
        "dataset.head()"
      ],
      "outputs": [
        {
          "output_type": "stream",
          "name": "stdout",
          "text": [
            "[*********************100%***********************]  1 of 1 completed\n"
          ]
        },
        {
          "output_type": "execute_result",
          "execution_count": 2,
          "data": {
            "text/plain": "                 Open       High        Low      Close  Adj Close   Volume\nDate                                                                      \n2020-01-02  19.570000  19.809999  18.879999  19.230000  19.230000  1233600\n2020-01-03  19.020000  19.360001  18.719999  18.889999  18.889999  1751000\n2020-01-06  18.700001  18.740000  18.010000  18.129999  18.129999  1606500\n2020-01-07  18.150000  18.320000  17.680000  17.780001  17.780001  1461400\n2020-01-08  17.990000  18.080000  17.760000  17.980000  17.980000  1041600",
            "text/html": "<div>\n<style scoped>\n    .dataframe tbody tr th:only-of-type {\n        vertical-align: middle;\n    }\n\n    .dataframe tbody tr th {\n        vertical-align: top;\n    }\n\n    .dataframe thead th {\n        text-align: right;\n    }\n</style>\n<table border=\"1\" class=\"dataframe\">\n  <thead>\n    <tr style=\"text-align: right;\">\n      <th></th>\n      <th>Open</th>\n      <th>High</th>\n      <th>Low</th>\n      <th>Close</th>\n      <th>Adj Close</th>\n      <th>Volume</th>\n    </tr>\n    <tr>\n      <th>Date</th>\n      <th></th>\n      <th></th>\n      <th></th>\n      <th></th>\n      <th></th>\n      <th></th>\n    </tr>\n  </thead>\n  <tbody>\n    <tr>\n      <th>2020-01-02</th>\n      <td>19.570000</td>\n      <td>19.809999</td>\n      <td>18.879999</td>\n      <td>19.230000</td>\n      <td>19.230000</td>\n      <td>1233600</td>\n    </tr>\n    <tr>\n      <th>2020-01-03</th>\n      <td>19.020000</td>\n      <td>19.360001</td>\n      <td>18.719999</td>\n      <td>18.889999</td>\n      <td>18.889999</td>\n      <td>1751000</td>\n    </tr>\n    <tr>\n      <th>2020-01-06</th>\n      <td>18.700001</td>\n      <td>18.740000</td>\n      <td>18.010000</td>\n      <td>18.129999</td>\n      <td>18.129999</td>\n      <td>1606500</td>\n    </tr>\n    <tr>\n      <th>2020-01-07</th>\n      <td>18.150000</td>\n      <td>18.320000</td>\n      <td>17.680000</td>\n      <td>17.780001</td>\n      <td>17.780001</td>\n      <td>1461400</td>\n    </tr>\n    <tr>\n      <th>2020-01-08</th>\n      <td>17.990000</td>\n      <td>18.080000</td>\n      <td>17.760000</td>\n      <td>17.980000</td>\n      <td>17.980000</td>\n      <td>1041600</td>\n    </tr>\n  </tbody>\n</table>\n</div>"
          },
          "metadata": {}
        }
      ],
      "execution_count": 2,
      "metadata": {
        "collapsed": false,
        "outputHidden": false,
        "inputHidden": false,
        "execution": {
          "iopub.status.busy": "2022-09-13T01:18:14.593Z",
          "iopub.execute_input": "2022-09-13T01:18:14.596Z",
          "iopub.status.idle": "2022-09-13T01:18:15.216Z",
          "shell.execute_reply": "2022-09-13T01:18:15.250Z"
        }
      }
    },
    {
      "cell_type": "code",
      "source": [
        "# Create more data\n",
        "dataset['Increase_Decrease'] = np.where(dataset['Volume'].shift(-1) > dataset['Volume'],1,0)\n",
        "dataset['Buy_Sell_on_Open'] = np.where(dataset['Open'].shift(-1) > dataset['Open'],1,-1)\n",
        "dataset['Buy_Sell'] = np.where(dataset['Adj Close'].shift(-1) > dataset['Adj Close'],1,-1)\n",
        "dataset['Return'] = dataset['Adj Close'].pct_change()\n",
        "dataset = dataset.dropna()\n",
        "dataset.head()"
      ],
      "outputs": [
        {
          "output_type": "execute_result",
          "execution_count": 3,
          "data": {
            "text/plain": "                 Open       High        Low      Close  Adj Close   Volume  \\\nDate                                                                         \n2020-01-03  19.020000  19.360001  18.719999  18.889999  18.889999  1751000   \n2020-01-06  18.700001  18.740000  18.010000  18.129999  18.129999  1606500   \n2020-01-07  18.150000  18.320000  17.680000  17.780001  17.780001  1461400   \n2020-01-08  17.990000  18.080000  17.760000  17.980000  17.980000  1041600   \n2020-01-09  18.000000  18.549999  17.900000  18.400000  18.400000  1495700   \n\n            Increase_Decrease  Buy_Sell_on_Open  Buy_Sell    Return  \nDate                                                                 \n2020-01-03                  0                -1        -1 -0.017681  \n2020-01-06                  0                -1        -1 -0.040233  \n2020-01-07                  0                -1         1 -0.019305  \n2020-01-08                  1                 1         1  0.011249  \n2020-01-09                  1                 1         1  0.023359  ",
            "text/html": "<div>\n<style scoped>\n    .dataframe tbody tr th:only-of-type {\n        vertical-align: middle;\n    }\n\n    .dataframe tbody tr th {\n        vertical-align: top;\n    }\n\n    .dataframe thead th {\n        text-align: right;\n    }\n</style>\n<table border=\"1\" class=\"dataframe\">\n  <thead>\n    <tr style=\"text-align: right;\">\n      <th></th>\n      <th>Open</th>\n      <th>High</th>\n      <th>Low</th>\n      <th>Close</th>\n      <th>Adj Close</th>\n      <th>Volume</th>\n      <th>Increase_Decrease</th>\n      <th>Buy_Sell_on_Open</th>\n      <th>Buy_Sell</th>\n      <th>Return</th>\n    </tr>\n    <tr>\n      <th>Date</th>\n      <th></th>\n      <th></th>\n      <th></th>\n      <th></th>\n      <th></th>\n      <th></th>\n      <th></th>\n      <th></th>\n      <th></th>\n      <th></th>\n    </tr>\n  </thead>\n  <tbody>\n    <tr>\n      <th>2020-01-03</th>\n      <td>19.020000</td>\n      <td>19.360001</td>\n      <td>18.719999</td>\n      <td>18.889999</td>\n      <td>18.889999</td>\n      <td>1751000</td>\n      <td>0</td>\n      <td>-1</td>\n      <td>-1</td>\n      <td>-0.017681</td>\n    </tr>\n    <tr>\n      <th>2020-01-06</th>\n      <td>18.700001</td>\n      <td>18.740000</td>\n      <td>18.010000</td>\n      <td>18.129999</td>\n      <td>18.129999</td>\n      <td>1606500</td>\n      <td>0</td>\n      <td>-1</td>\n      <td>-1</td>\n      <td>-0.040233</td>\n    </tr>\n    <tr>\n      <th>2020-01-07</th>\n      <td>18.150000</td>\n      <td>18.320000</td>\n      <td>17.680000</td>\n      <td>17.780001</td>\n      <td>17.780001</td>\n      <td>1461400</td>\n      <td>0</td>\n      <td>-1</td>\n      <td>1</td>\n      <td>-0.019305</td>\n    </tr>\n    <tr>\n      <th>2020-01-08</th>\n      <td>17.990000</td>\n      <td>18.080000</td>\n      <td>17.760000</td>\n      <td>17.980000</td>\n      <td>17.980000</td>\n      <td>1041600</td>\n      <td>1</td>\n      <td>1</td>\n      <td>1</td>\n      <td>0.011249</td>\n    </tr>\n    <tr>\n      <th>2020-01-09</th>\n      <td>18.000000</td>\n      <td>18.549999</td>\n      <td>17.900000</td>\n      <td>18.400000</td>\n      <td>18.400000</td>\n      <td>1495700</td>\n      <td>1</td>\n      <td>1</td>\n      <td>1</td>\n      <td>0.023359</td>\n    </tr>\n  </tbody>\n</table>\n</div>"
          },
          "metadata": {}
        }
      ],
      "execution_count": 3,
      "metadata": {
        "collapsed": false,
        "outputHidden": false,
        "inputHidden": false,
        "execution": {
          "iopub.status.busy": "2022-09-13T01:18:15.222Z",
          "iopub.execute_input": "2022-09-13T01:18:15.226Z",
          "shell.execute_reply": "2022-09-13T01:18:15.257Z",
          "iopub.status.idle": "2022-09-13T01:18:15.265Z"
        }
      }
    },
    {
      "cell_type": "code",
      "source": [
        "dataset.shape"
      ],
      "outputs": [
        {
          "output_type": "execute_result",
          "execution_count": 4,
          "data": {
            "text/plain": "(673, 10)"
          },
          "metadata": {}
        }
      ],
      "execution_count": 4,
      "metadata": {
        "collapsed": false,
        "outputHidden": false,
        "inputHidden": false,
        "execution": {
          "iopub.status.busy": "2022-09-13T01:18:15.270Z",
          "iopub.execute_input": "2022-09-13T01:18:15.274Z",
          "iopub.status.idle": "2022-09-13T01:18:15.280Z",
          "shell.execute_reply": "2022-09-13T01:18:15.259Z"
        }
      }
    },
    {
      "cell_type": "code",
      "source": [
        "X = dataset.drop(['Adj Close', 'Close'], axis=1)  \n",
        "y = dataset['Adj Close'] "
      ],
      "outputs": [],
      "execution_count": 5,
      "metadata": {
        "collapsed": false,
        "outputHidden": false,
        "inputHidden": false,
        "execution": {
          "iopub.status.busy": "2022-09-13T01:18:15.288Z",
          "iopub.execute_input": "2022-09-13T01:18:15.293Z",
          "iopub.status.idle": "2022-09-13T01:18:15.299Z",
          "shell.execute_reply": "2022-09-13T01:18:15.317Z"
        }
      }
    },
    {
      "cell_type": "code",
      "source": [
        "from sklearn.model_selection import train_test_split  \n",
        "X_train, X_test, y_train, y_test = train_test_split(X, y, test_size=0.2, random_state=0)  "
      ],
      "outputs": [],
      "execution_count": 6,
      "metadata": {
        "collapsed": false,
        "outputHidden": false,
        "inputHidden": false,
        "execution": {
          "iopub.status.busy": "2022-09-13T01:18:15.304Z",
          "iopub.execute_input": "2022-09-13T01:18:15.308Z",
          "shell.execute_reply": "2022-09-13T01:18:16.104Z",
          "iopub.status.idle": "2022-09-13T01:18:16.110Z"
        }
      }
    },
    {
      "cell_type": "code",
      "source": [
        "from sklearn.tree import DecisionTreeRegressor  \n",
        "regressor = DecisionTreeRegressor()  \n",
        "regressor.fit(X_train, y_train)"
      ],
      "outputs": [
        {
          "output_type": "execute_result",
          "execution_count": 7,
          "data": {
            "text/plain": "DecisionTreeRegressor()"
          },
          "metadata": {}
        }
      ],
      "execution_count": 7,
      "metadata": {
        "collapsed": false,
        "outputHidden": false,
        "inputHidden": false,
        "execution": {
          "iopub.status.busy": "2022-09-13T01:18:16.116Z",
          "iopub.execute_input": "2022-09-13T01:18:16.120Z",
          "shell.execute_reply": "2022-09-13T01:18:16.185Z",
          "iopub.status.idle": "2022-09-13T01:18:16.168Z"
        }
      }
    },
    {
      "cell_type": "code",
      "source": [
        "from mlxtend.evaluate import bias_variance_decomp\n",
        "\n",
        "avg_expected_loss, avg_bias, avg_var = bias_variance_decomp(regressor, X_train.values, y_train.values, X_test.values, y_test.values, loss='mse', random_seed=123)\n",
        "\n",
        "print('MSE: %.3f' % avg_expected_loss)\n",
        "print('Bias: %.3f' % avg_bias)\n",
        "print('Variance: %.3f' % avg_var)"
      ],
      "outputs": [
        {
          "output_type": "stream",
          "name": "stdout",
          "text": [
            "MSE: 51.994\n",
            "Bias: 22.628\n",
            "Variance: 29.367\n"
          ]
        }
      ],
      "execution_count": 8,
      "metadata": {
        "collapsed": true,
        "jupyter": {
          "source_hidden": false,
          "outputs_hidden": false
        },
        "nteract": {
          "transient": {
            "deleting": false
          }
        },
        "execution": {
          "iopub.status.busy": "2022-09-13T01:18:16.174Z",
          "iopub.execute_input": "2022-09-13T01:18:16.177Z",
          "shell.execute_reply": "2022-09-13T01:18:16.489Z",
          "iopub.status.idle": "2022-09-13T01:18:16.495Z"
        }
      }
    },
    {
      "cell_type": "code",
      "source": [
        "y_pred = regressor.predict(X_test)"
      ],
      "outputs": [],
      "execution_count": 9,
      "metadata": {
        "collapsed": false,
        "outputHidden": false,
        "inputHidden": false,
        "execution": {
          "iopub.status.busy": "2022-09-13T01:18:16.500Z",
          "iopub.execute_input": "2022-09-13T01:18:16.504Z",
          "iopub.status.idle": "2022-09-13T01:18:16.510Z",
          "shell.execute_reply": "2022-09-13T01:18:16.578Z"
        }
      }
    },
    {
      "cell_type": "code",
      "source": [
        "df = pd.DataFrame({'Actual':y_test, 'Predicted':y_pred})  \n",
        "print(df.head())\n",
        "print(df.tail())"
      ],
      "outputs": [
        {
          "output_type": "stream",
          "name": "stdout",
          "text": [
            "                Actual   Predicted\n",
            "Date                              \n",
            "2022-03-09  142.490005  133.880005\n",
            "2021-12-30  251.600006  247.880005\n",
            "2021-11-02  348.640015  349.559998\n",
            "2021-04-30  178.820007  179.520004\n",
            "2020-01-24   21.120001   20.940001\n",
            "                Actual   Predicted\n",
            "Date                              \n",
            "2020-04-24   50.500000   50.500000\n",
            "2022-08-11  171.809998  173.250000\n",
            "2020-09-30   70.750000   71.279999\n",
            "2020-10-08   72.930000   75.309998\n",
            "2021-10-22  326.540009  325.839996\n"
          ]
        }
      ],
      "execution_count": 10,
      "metadata": {
        "collapsed": false,
        "outputHidden": false,
        "inputHidden": false,
        "execution": {
          "iopub.status.busy": "2022-09-13T01:18:16.515Z",
          "iopub.execute_input": "2022-09-13T01:18:16.519Z",
          "iopub.status.idle": "2022-09-13T01:18:16.527Z",
          "shell.execute_reply": "2022-09-13T01:18:16.581Z"
        }
      }
    },
    {
      "cell_type": "code",
      "source": [
        "from sklearn import metrics  \n",
        "print('Mean Absolute Error:', metrics.mean_absolute_error(y_test, y_pred))  \n",
        "print('Mean Squared Error:', metrics.mean_squared_error(y_test, y_pred))  \n",
        "print('Root Mean Squared Error:', np.sqrt(metrics.mean_squared_error(y_test, y_pred)))  "
      ],
      "outputs": [
        {
          "output_type": "stream",
          "name": "stdout",
          "text": [
            "Mean Absolute Error: 4.091926659478082\n",
            "Mean Squared Error: 46.55669878026184\n",
            "Root Mean Squared Error: 6.823246938244419\n"
          ]
        }
      ],
      "execution_count": 11,
      "metadata": {
        "collapsed": false,
        "outputHidden": false,
        "inputHidden": false,
        "execution": {
          "iopub.status.busy": "2022-09-13T01:18:16.532Z",
          "iopub.execute_input": "2022-09-13T01:18:16.536Z",
          "iopub.status.idle": "2022-09-13T01:18:16.544Z",
          "shell.execute_reply": "2022-09-13T01:18:16.584Z"
        }
      }
    },
    {
      "cell_type": "code",
      "source": [
        "print(y_test.shape)\n",
        "print(y_pred.shape)"
      ],
      "outputs": [
        {
          "output_type": "stream",
          "name": "stdout",
          "text": [
            "(135,)\n",
            "(135,)\n"
          ]
        }
      ],
      "execution_count": 12,
      "metadata": {
        "collapsed": false,
        "outputHidden": false,
        "inputHidden": false,
        "execution": {
          "iopub.status.busy": "2022-09-13T01:18:16.549Z",
          "iopub.execute_input": "2022-09-13T01:18:16.553Z",
          "iopub.status.idle": "2022-09-13T01:18:16.560Z",
          "shell.execute_reply": "2022-09-13T01:18:16.586Z"
        }
      }
    },
    {
      "cell_type": "code",
      "source": [
        "from sklearn.model_selection import cross_val_score\n",
        "\n",
        "dt_fit = regressor.fit(X_train, y_train)\n",
        "dt_scores = cross_val_score(dt_fit, X_train, y_train, cv = 5)\n",
        "\n",
        "print(\"Mean cross validation score: {}\".format(np.mean(dt_scores)))\n",
        "print(\"Score without cv: {}\".format(dt_fit.score(X_train, y_train)))"
      ],
      "outputs": [
        {
          "output_type": "stream",
          "name": "stdout",
          "text": [
            "Mean cross validation score: 0.9956884196568676\n",
            "Score without cv: 1.0\n"
          ]
        }
      ],
      "execution_count": 13,
      "metadata": {
        "collapsed": false,
        "outputHidden": false,
        "inputHidden": false,
        "execution": {
          "iopub.status.busy": "2022-09-13T01:18:16.565Z",
          "iopub.execute_input": "2022-09-13T01:18:16.568Z",
          "iopub.status.idle": "2022-09-13T01:18:16.599Z",
          "shell.execute_reply": "2022-09-13T01:18:16.623Z"
        }
      }
    },
    {
      "cell_type": "code",
      "source": [
        "from sklearn.metrics import r2_score\n",
        "\n",
        "print('r2 score:', r2_score(y_test, dt_fit.predict(X_test)))\n",
        "print('Accuracy Score:', dt_fit.score(X_test, y_test))"
      ],
      "outputs": [
        {
          "output_type": "stream",
          "name": "stdout",
          "text": [
            "r2 score: 0.9964731457444133\n",
            "Accuracy Score: 0.9964731457444133\n"
          ]
        }
      ],
      "execution_count": 14,
      "metadata": {
        "collapsed": false,
        "outputHidden": false,
        "inputHidden": false,
        "execution": {
          "iopub.status.busy": "2022-09-13T01:18:16.605Z",
          "iopub.execute_input": "2022-09-13T01:18:16.608Z",
          "iopub.status.idle": "2022-09-13T01:18:16.616Z",
          "shell.execute_reply": "2022-09-13T01:18:16.626Z"
        }
      }
    }
  ],
  "metadata": {
    "kernel_info": {
      "name": "python3"
    },
    "language_info": {
      "name": "python",
      "version": "3.6.13",
      "mimetype": "text/x-python",
      "codemirror_mode": {
        "name": "ipython",
        "version": 3
      },
      "pygments_lexer": "ipython3",
      "nbconvert_exporter": "python",
      "file_extension": ".py"
    },
    "kernelspec": {
      "name": "python3",
      "language": "python",
      "display_name": "Python 3"
    },
    "nteract": {
      "version": "0.28.0"
    }
  },
  "nbformat": 4,
  "nbformat_minor": 4
}