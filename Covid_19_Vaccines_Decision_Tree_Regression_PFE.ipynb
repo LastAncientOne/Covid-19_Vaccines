{
  "cells": [
    {
      "cell_type": "markdown",
      "source": [
        "# Decision Trees for Regression PFE"
      ],
      "metadata": {}
    },
    {
      "cell_type": "code",
      "source": [
        "import numpy as np\n",
        "import matplotlib.pyplot as plt\n",
        "import pandas as pd\n",
        "\n",
        "import warnings\n",
        "warnings.filterwarnings(\"ignore\")\n",
        "\n",
        "# fix_yahoo_finance is used to fetch data \n",
        "import yfinance as yf\n",
        "yf.pdr_override()"
      ],
      "outputs": [],
      "execution_count": 1,
      "metadata": {
        "collapsed": false,
        "outputHidden": false,
        "inputHidden": false,
        "execution": {
          "iopub.status.busy": "2022-09-13T01:19:22.038Z",
          "iopub.execute_input": "2022-09-13T01:19:22.042Z",
          "shell.execute_reply": "2022-09-13T01:19:22.510Z",
          "iopub.status.idle": "2022-09-13T01:19:22.516Z"
        }
      }
    },
    {
      "cell_type": "code",
      "source": [
        "# input\n",
        "symbol = 'PFE'\n",
        "start = '2020-01-01'\n",
        "end = '2022-09-03'\n",
        "\n",
        "# Read data \n",
        "dataset = yf.download(symbol,start,end)\n",
        "\n",
        "# View Columns\n",
        "dataset.head()"
      ],
      "outputs": [
        {
          "output_type": "stream",
          "name": "stdout",
          "text": [
            "[*********************100%***********************]  1 of 1 completed\n"
          ]
        },
        {
          "output_type": "execute_result",
          "execution_count": 2,
          "data": {
            "text/plain": "                 Open       High        Low      Close  Adj Close    Volume\nDate                                                                       \n2020-01-02  37.286530  37.333965  36.888046  37.134724  33.538963  16514072\n2020-01-03  36.736244  37.229603  36.688805  36.935486  33.359020  14922848\n2020-01-06  36.831120  37.001900  36.717270  36.888046  33.316177  15771951\n2020-01-07  37.115749  37.125237  36.698292  36.764706  33.204781  20108107\n2020-01-08  36.774193  37.210625  36.764706  37.058823  33.470413  16403507",
            "text/html": "<div>\n<style scoped>\n    .dataframe tbody tr th:only-of-type {\n        vertical-align: middle;\n    }\n\n    .dataframe tbody tr th {\n        vertical-align: top;\n    }\n\n    .dataframe thead th {\n        text-align: right;\n    }\n</style>\n<table border=\"1\" class=\"dataframe\">\n  <thead>\n    <tr style=\"text-align: right;\">\n      <th></th>\n      <th>Open</th>\n      <th>High</th>\n      <th>Low</th>\n      <th>Close</th>\n      <th>Adj Close</th>\n      <th>Volume</th>\n    </tr>\n    <tr>\n      <th>Date</th>\n      <th></th>\n      <th></th>\n      <th></th>\n      <th></th>\n      <th></th>\n      <th></th>\n    </tr>\n  </thead>\n  <tbody>\n    <tr>\n      <th>2020-01-02</th>\n      <td>37.286530</td>\n      <td>37.333965</td>\n      <td>36.888046</td>\n      <td>37.134724</td>\n      <td>33.538963</td>\n      <td>16514072</td>\n    </tr>\n    <tr>\n      <th>2020-01-03</th>\n      <td>36.736244</td>\n      <td>37.229603</td>\n      <td>36.688805</td>\n      <td>36.935486</td>\n      <td>33.359020</td>\n      <td>14922848</td>\n    </tr>\n    <tr>\n      <th>2020-01-06</th>\n      <td>36.831120</td>\n      <td>37.001900</td>\n      <td>36.717270</td>\n      <td>36.888046</td>\n      <td>33.316177</td>\n      <td>15771951</td>\n    </tr>\n    <tr>\n      <th>2020-01-07</th>\n      <td>37.115749</td>\n      <td>37.125237</td>\n      <td>36.698292</td>\n      <td>36.764706</td>\n      <td>33.204781</td>\n      <td>20108107</td>\n    </tr>\n    <tr>\n      <th>2020-01-08</th>\n      <td>36.774193</td>\n      <td>37.210625</td>\n      <td>36.764706</td>\n      <td>37.058823</td>\n      <td>33.470413</td>\n      <td>16403507</td>\n    </tr>\n  </tbody>\n</table>\n</div>"
          },
          "metadata": {}
        }
      ],
      "execution_count": 2,
      "metadata": {
        "collapsed": false,
        "outputHidden": false,
        "inputHidden": false,
        "execution": {
          "iopub.status.busy": "2022-09-13T01:19:22.521Z",
          "iopub.execute_input": "2022-09-13T01:19:22.526Z",
          "iopub.status.idle": "2022-09-13T01:19:23.243Z",
          "shell.execute_reply": "2022-09-13T01:19:23.258Z"
        }
      }
    },
    {
      "cell_type": "code",
      "source": [
        "# Create more data\n",
        "dataset['Increase_Decrease'] = np.where(dataset['Volume'].shift(-1) > dataset['Volume'],1,0)\n",
        "dataset['Buy_Sell_on_Open'] = np.where(dataset['Open'].shift(-1) > dataset['Open'],1,-1)\n",
        "dataset['Buy_Sell'] = np.where(dataset['Adj Close'].shift(-1) > dataset['Adj Close'],1,-1)\n",
        "dataset['Return'] = dataset['Adj Close'].pct_change()\n",
        "dataset = dataset.dropna()\n",
        "dataset.head()"
      ],
      "outputs": [
        {
          "output_type": "execute_result",
          "execution_count": 3,
          "data": {
            "text/plain": "                 Open       High        Low      Close  Adj Close    Volume  \\\nDate                                                                          \n2020-01-03  36.736244  37.229603  36.688805  36.935486  33.359020  14922848   \n2020-01-06  36.831120  37.001900  36.717270  36.888046  33.316177  15771951   \n2020-01-07  37.115749  37.125237  36.698292  36.764706  33.204781  20108107   \n2020-01-08  36.774193  37.210625  36.764706  37.058823  33.470413  16403507   \n2020-01-09  37.258064  37.258064  36.802658  36.897533  33.324745  21971895   \n\n            Increase_Decrease  Buy_Sell_on_Open  Buy_Sell    Return  \nDate                                                                 \n2020-01-03                  1                 1        -1 -0.005365  \n2020-01-06                  1                 1        -1 -0.001284  \n2020-01-07                  0                -1         1 -0.003344  \n2020-01-08                  1                 1        -1  0.008000  \n2020-01-09                  0                -1         1 -0.004352  ",
            "text/html": "<div>\n<style scoped>\n    .dataframe tbody tr th:only-of-type {\n        vertical-align: middle;\n    }\n\n    .dataframe tbody tr th {\n        vertical-align: top;\n    }\n\n    .dataframe thead th {\n        text-align: right;\n    }\n</style>\n<table border=\"1\" class=\"dataframe\">\n  <thead>\n    <tr style=\"text-align: right;\">\n      <th></th>\n      <th>Open</th>\n      <th>High</th>\n      <th>Low</th>\n      <th>Close</th>\n      <th>Adj Close</th>\n      <th>Volume</th>\n      <th>Increase_Decrease</th>\n      <th>Buy_Sell_on_Open</th>\n      <th>Buy_Sell</th>\n      <th>Return</th>\n    </tr>\n    <tr>\n      <th>Date</th>\n      <th></th>\n      <th></th>\n      <th></th>\n      <th></th>\n      <th></th>\n      <th></th>\n      <th></th>\n      <th></th>\n      <th></th>\n      <th></th>\n    </tr>\n  </thead>\n  <tbody>\n    <tr>\n      <th>2020-01-03</th>\n      <td>36.736244</td>\n      <td>37.229603</td>\n      <td>36.688805</td>\n      <td>36.935486</td>\n      <td>33.359020</td>\n      <td>14922848</td>\n      <td>1</td>\n      <td>1</td>\n      <td>-1</td>\n      <td>-0.005365</td>\n    </tr>\n    <tr>\n      <th>2020-01-06</th>\n      <td>36.831120</td>\n      <td>37.001900</td>\n      <td>36.717270</td>\n      <td>36.888046</td>\n      <td>33.316177</td>\n      <td>15771951</td>\n      <td>1</td>\n      <td>1</td>\n      <td>-1</td>\n      <td>-0.001284</td>\n    </tr>\n    <tr>\n      <th>2020-01-07</th>\n      <td>37.115749</td>\n      <td>37.125237</td>\n      <td>36.698292</td>\n      <td>36.764706</td>\n      <td>33.204781</td>\n      <td>20108107</td>\n      <td>0</td>\n      <td>-1</td>\n      <td>1</td>\n      <td>-0.003344</td>\n    </tr>\n    <tr>\n      <th>2020-01-08</th>\n      <td>36.774193</td>\n      <td>37.210625</td>\n      <td>36.764706</td>\n      <td>37.058823</td>\n      <td>33.470413</td>\n      <td>16403507</td>\n      <td>1</td>\n      <td>1</td>\n      <td>-1</td>\n      <td>0.008000</td>\n    </tr>\n    <tr>\n      <th>2020-01-09</th>\n      <td>37.258064</td>\n      <td>37.258064</td>\n      <td>36.802658</td>\n      <td>36.897533</td>\n      <td>33.324745</td>\n      <td>21971895</td>\n      <td>0</td>\n      <td>-1</td>\n      <td>1</td>\n      <td>-0.004352</td>\n    </tr>\n  </tbody>\n</table>\n</div>"
          },
          "metadata": {}
        }
      ],
      "execution_count": 3,
      "metadata": {
        "collapsed": false,
        "outputHidden": false,
        "inputHidden": false,
        "execution": {
          "iopub.status.busy": "2022-09-13T01:19:23.248Z",
          "iopub.execute_input": "2022-09-13T01:19:23.252Z",
          "shell.execute_reply": "2022-09-13T01:19:23.321Z",
          "iopub.status.idle": "2022-09-13T01:19:23.272Z"
        }
      }
    },
    {
      "cell_type": "code",
      "source": [
        "dataset.shape"
      ],
      "outputs": [
        {
          "output_type": "execute_result",
          "execution_count": 4,
          "data": {
            "text/plain": "(673, 10)"
          },
          "metadata": {}
        }
      ],
      "execution_count": 4,
      "metadata": {
        "collapsed": false,
        "outputHidden": false,
        "inputHidden": false,
        "execution": {
          "iopub.status.busy": "2022-09-13T01:19:23.278Z",
          "iopub.execute_input": "2022-09-13T01:19:23.282Z",
          "iopub.status.idle": "2022-09-13T01:19:23.290Z",
          "shell.execute_reply": "2022-09-13T01:19:23.323Z"
        }
      }
    },
    {
      "cell_type": "code",
      "source": [
        "X = dataset.drop(['Adj Close', 'Close'], axis=1)  \n",
        "y = dataset['Adj Close'] "
      ],
      "outputs": [],
      "execution_count": 5,
      "metadata": {
        "collapsed": false,
        "outputHidden": false,
        "inputHidden": false,
        "execution": {
          "iopub.status.busy": "2022-09-13T01:19:23.295Z",
          "iopub.execute_input": "2022-09-13T01:19:23.299Z",
          "iopub.status.idle": "2022-09-13T01:19:23.306Z",
          "shell.execute_reply": "2022-09-13T01:19:23.326Z"
        }
      }
    },
    {
      "cell_type": "code",
      "source": [
        "from sklearn.model_selection import train_test_split  \n",
        "X_train, X_test, y_train, y_test = train_test_split(X, y, test_size=0.2, random_state=0)  "
      ],
      "outputs": [],
      "execution_count": 6,
      "metadata": {
        "collapsed": false,
        "outputHidden": false,
        "inputHidden": false,
        "execution": {
          "iopub.status.busy": "2022-09-13T01:19:23.314Z",
          "iopub.execute_input": "2022-09-13T01:19:23.317Z",
          "shell.execute_reply": "2022-09-13T01:19:24.142Z",
          "iopub.status.idle": "2022-09-13T01:19:24.130Z"
        }
      }
    },
    {
      "cell_type": "code",
      "source": [
        "from sklearn.tree import DecisionTreeRegressor  \n",
        "regressor = DecisionTreeRegressor()  \n",
        "regressor.fit(X_train, y_train)"
      ],
      "outputs": [
        {
          "output_type": "execute_result",
          "execution_count": 7,
          "data": {
            "text/plain": "DecisionTreeRegressor()"
          },
          "metadata": {}
        }
      ],
      "execution_count": 7,
      "metadata": {
        "collapsed": false,
        "outputHidden": false,
        "inputHidden": false,
        "execution": {
          "iopub.status.busy": "2022-09-13T01:19:24.135Z",
          "iopub.execute_input": "2022-09-13T01:19:24.138Z",
          "shell.execute_reply": "2022-09-13T01:19:24.206Z",
          "iopub.status.idle": "2022-09-13T01:19:24.193Z"
        }
      }
    },
    {
      "cell_type": "code",
      "source": [
        "from mlxtend.evaluate import bias_variance_decomp\n",
        "\n",
        "avg_expected_loss, avg_bias, avg_var = bias_variance_decomp(regressor, X_train.values, y_train.values, X_test.values, y_test.values, loss='mse', random_seed=123)\n",
        "\n",
        "print('MSE: %.3f' % avg_expected_loss)\n",
        "print('Bias: %.3f' % avg_bias)\n",
        "print('Variance: %.3f' % avg_var)"
      ],
      "outputs": [
        {
          "output_type": "stream",
          "name": "stdout",
          "text": [
            "MSE: 0.722\n",
            "Bias: 0.405\n",
            "Variance: 0.317\n"
          ]
        }
      ],
      "execution_count": 8,
      "metadata": {
        "collapsed": true,
        "jupyter": {
          "source_hidden": false,
          "outputs_hidden": false
        },
        "nteract": {
          "transient": {
            "deleting": false
          }
        },
        "execution": {
          "iopub.status.busy": "2022-09-13T01:19:24.198Z",
          "iopub.execute_input": "2022-09-13T01:19:24.202Z",
          "shell.execute_reply": "2022-09-13T01:19:24.590Z",
          "iopub.status.idle": "2022-09-13T01:19:24.514Z"
        }
      }
    },
    {
      "cell_type": "code",
      "source": [
        "y_pred = regressor.predict(X_test)"
      ],
      "outputs": [],
      "execution_count": 9,
      "metadata": {
        "collapsed": false,
        "outputHidden": false,
        "inputHidden": false,
        "execution": {
          "iopub.status.busy": "2022-09-13T01:19:24.519Z",
          "iopub.execute_input": "2022-09-13T01:19:24.523Z",
          "iopub.status.idle": "2022-09-13T01:19:24.528Z",
          "shell.execute_reply": "2022-09-13T01:19:24.592Z"
        }
      }
    },
    {
      "cell_type": "code",
      "source": [
        "df = pd.DataFrame({'Actual':y_test, 'Predicted':y_pred})  \n",
        "print(df.head())\n",
        "print(df.tail())"
      ],
      "outputs": [
        {
          "output_type": "stream",
          "name": "stdout",
          "text": [
            "               Actual  Predicted\n",
            "Date                            \n",
            "2022-03-09  47.983334  48.426258\n",
            "2021-12-30  57.047832  56.246819\n",
            "2021-11-02  44.011349  44.234066\n",
            "2021-04-30  36.728748  36.719246\n",
            "2020-01-24  34.121662  37.608868\n",
            "               Actual  Predicted\n",
            "Date                            \n",
            "2020-04-24  32.358025  33.649803\n",
            "2022-08-11  48.290001  46.848602\n",
            "2020-09-30  32.399586  33.503120\n",
            "2020-10-08  32.567326  32.505531\n",
            "2021-10-22  41.793831  41.813202\n"
          ]
        }
      ],
      "execution_count": 10,
      "metadata": {
        "collapsed": false,
        "outputHidden": false,
        "inputHidden": false,
        "execution": {
          "iopub.status.busy": "2022-09-13T01:19:24.534Z",
          "iopub.execute_input": "2022-09-13T01:19:24.537Z",
          "iopub.status.idle": "2022-09-13T01:19:24.546Z",
          "shell.execute_reply": "2022-09-13T01:19:24.593Z"
        }
      }
    },
    {
      "cell_type": "code",
      "source": [
        "from sklearn import metrics  \n",
        "print('Mean Absolute Error:', metrics.mean_absolute_error(y_test, y_pred))  \n",
        "print('Mean Squared Error:', metrics.mean_squared_error(y_test, y_pred))  \n",
        "print('Root Mean Squared Error:', np.sqrt(metrics.mean_squared_error(y_test, y_pred)))  "
      ],
      "outputs": [
        {
          "output_type": "stream",
          "name": "stdout",
          "text": [
            "Mean Absolute Error: 0.697496979324906\n",
            "Mean Squared Error: 0.9597733136342194\n",
            "Root Mean Squared Error: 0.9796802098818876\n"
          ]
        }
      ],
      "execution_count": 11,
      "metadata": {
        "collapsed": false,
        "outputHidden": false,
        "inputHidden": false,
        "execution": {
          "iopub.status.busy": "2022-09-13T01:19:24.550Z",
          "iopub.execute_input": "2022-09-13T01:19:24.554Z",
          "iopub.status.idle": "2022-09-13T01:19:24.561Z",
          "shell.execute_reply": "2022-09-13T01:19:24.596Z"
        }
      }
    },
    {
      "cell_type": "code",
      "source": [
        "print(y_test.shape)\n",
        "print(y_pred.shape)"
      ],
      "outputs": [
        {
          "output_type": "stream",
          "name": "stdout",
          "text": [
            "(135,)\n",
            "(135,)\n"
          ]
        }
      ],
      "execution_count": 12,
      "metadata": {
        "collapsed": false,
        "outputHidden": false,
        "inputHidden": false,
        "execution": {
          "iopub.status.busy": "2022-09-13T01:19:24.566Z",
          "iopub.execute_input": "2022-09-13T01:19:24.570Z",
          "iopub.status.idle": "2022-09-13T01:19:24.578Z",
          "shell.execute_reply": "2022-09-13T01:19:24.598Z"
        }
      }
    },
    {
      "cell_type": "code",
      "source": [
        "from sklearn.model_selection import cross_val_score\n",
        "\n",
        "dt_fit = regressor.fit(X_train, y_train)\n",
        "dt_scores = cross_val_score(dt_fit, X_train, y_train, cv = 5)\n",
        "\n",
        "print(\"Mean cross validation score: {}\".format(np.mean(dt_scores)))\n",
        "print(\"Score without cv: {}\".format(dt_fit.score(X_train, y_train)))"
      ],
      "outputs": [
        {
          "output_type": "stream",
          "name": "stdout",
          "text": [
            "Mean cross validation score: 0.9916452345060606\n",
            "Score without cv: 1.0\n"
          ]
        }
      ],
      "execution_count": 13,
      "metadata": {
        "collapsed": false,
        "outputHidden": false,
        "inputHidden": false,
        "execution": {
          "iopub.status.busy": "2022-09-13T01:19:24.583Z",
          "iopub.execute_input": "2022-09-13T01:19:24.586Z",
          "iopub.status.idle": "2022-09-13T01:19:24.620Z",
          "shell.execute_reply": "2022-09-13T01:19:24.643Z"
        }
      }
    },
    {
      "cell_type": "code",
      "source": [
        "from sklearn.metrics import r2_score\n",
        "\n",
        "print('r2 score:', r2_score(y_test, dt_fit.predict(X_test)))\n",
        "print('Accuracy Score:', dt_fit.score(X_test, y_test))"
      ],
      "outputs": [
        {
          "output_type": "stream",
          "name": "stdout",
          "text": [
            "r2 score: 0.9898089088670187\n",
            "Accuracy Score: 0.9898089088670187\n"
          ]
        }
      ],
      "execution_count": 14,
      "metadata": {
        "collapsed": false,
        "outputHidden": false,
        "inputHidden": false,
        "execution": {
          "iopub.status.busy": "2022-09-13T01:19:24.625Z",
          "iopub.execute_input": "2022-09-13T01:19:24.629Z",
          "iopub.status.idle": "2022-09-13T01:19:24.636Z",
          "shell.execute_reply": "2022-09-13T01:19:24.646Z"
        }
      }
    }
  ],
  "metadata": {
    "kernel_info": {
      "name": "python3"
    },
    "language_info": {
      "name": "python",
      "version": "3.6.13",
      "mimetype": "text/x-python",
      "codemirror_mode": {
        "name": "ipython",
        "version": 3
      },
      "pygments_lexer": "ipython3",
      "nbconvert_exporter": "python",
      "file_extension": ".py"
    },
    "kernelspec": {
      "name": "python3",
      "language": "python",
      "display_name": "Python 3"
    },
    "nteract": {
      "version": "0.28.0"
    }
  },
  "nbformat": 4,
  "nbformat_minor": 4
}